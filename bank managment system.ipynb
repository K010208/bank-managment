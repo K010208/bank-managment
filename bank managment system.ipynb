{
 "cells": [
  {
   "cell_type": "code",
   "execution_count": 1,
   "id": "951d0f07-44e7-4ab0-8949-2eebced57f49",
   "metadata": {},
   "outputs": [
    {
     "name": "stdout",
     "output_type": "stream",
     "text": [
      "Defaulting to user installation because normal site-packages is not writeable\n",
      "Looking in links: /usr/share/pip-wheels\n",
      "Collecting kernel\n",
      "  Downloading kernel-0.11.1-py3-none-any.whl.metadata (16 kB)\n",
      "Requirement already satisfied: anyio<5,>=3.5.0 in /opt/conda/envs/anaconda-2024.02-py310/lib/python3.10/site-packages (from kernel) (4.2.0)\n",
      "Collecting distro<2,>=1.7.0 (from kernel)\n",
      "  Downloading distro-1.9.0-py3-none-any.whl.metadata (6.8 kB)\n",
      "Collecting httpx<1,>=0.23.0 (from kernel)\n",
      "  Downloading httpx-0.28.1-py3-none-any.whl.metadata (7.1 kB)\n",
      "Collecting pydantic<3,>=1.9.0 (from kernel)\n",
      "  Downloading pydantic-2.11.9-py3-none-any.whl.metadata (68 kB)\n",
      "\u001b[2K     \u001b[38;5;70m━━━━━━━━━━━━━━━━━━━━━━━━━━━━━━━━━━━━━━━━\u001b[0m \u001b[32m68.4/68.4 kB\u001b[0m \u001b[31m1.3 MB/s\u001b[0m eta \u001b[36m0:00:00\u001b[0m.2 MB/s\u001b[0m eta \u001b[36m0:00:01\u001b[0m\n",
      "\u001b[?25hRequirement already satisfied: sniffio in /opt/conda/envs/anaconda-2024.02-py310/lib/python3.10/site-packages (from kernel) (1.3.0)\n",
      "Collecting typing-extensions<5,>=4.10 (from kernel)\n",
      "  Downloading typing_extensions-4.15.0-py3-none-any.whl.metadata (3.3 kB)\n",
      "Requirement already satisfied: idna>=2.8 in /opt/conda/envs/anaconda-2024.02-py310/lib/python3.10/site-packages (from anyio<5,>=3.5.0->kernel) (3.4)\n",
      "Requirement already satisfied: exceptiongroup>=1.0.2 in /opt/conda/envs/anaconda-2024.02-py310/lib/python3.10/site-packages (from anyio<5,>=3.5.0->kernel) (1.2.0)\n",
      "Requirement already satisfied: certifi in /opt/conda/envs/anaconda-2024.02-py310/lib/python3.10/site-packages (from httpx<1,>=0.23.0->kernel) (2024.2.2)\n",
      "Collecting httpcore==1.* (from httpx<1,>=0.23.0->kernel)\n",
      "  Downloading httpcore-1.0.9-py3-none-any.whl.metadata (21 kB)\n",
      "Collecting h11>=0.16 (from httpcore==1.*->httpx<1,>=0.23.0->kernel)\n",
      "  Downloading h11-0.16.0-py3-none-any.whl.metadata (8.3 kB)\n",
      "Collecting annotated-types>=0.6.0 (from pydantic<3,>=1.9.0->kernel)\n",
      "  Downloading annotated_types-0.7.0-py3-none-any.whl.metadata (15 kB)\n",
      "Collecting pydantic-core==2.33.2 (from pydantic<3,>=1.9.0->kernel)\n",
      "  Downloading pydantic_core-2.33.2-cp310-cp310-manylinux_2_17_x86_64.manylinux2014_x86_64.whl.metadata (6.8 kB)\n",
      "Collecting typing-inspection>=0.4.0 (from pydantic<3,>=1.9.0->kernel)\n",
      "  Downloading typing_inspection-0.4.1-py3-none-any.whl.metadata (2.6 kB)\n",
      "Downloading kernel-0.11.1-py3-none-any.whl (135 kB)\n",
      "\u001b[2K   \u001b[38;5;70m━━━━━━━━━━━━━━━━━━━━━━━━━━━━━━━━━━━━━━━━\u001b[0m \u001b[32m135.4/135.4 kB\u001b[0m \u001b[31m3.0 MB/s\u001b[0m eta \u001b[36m0:00:00\u001b[0m \u001b[36m0:00:01\u001b[0m\n",
      "\u001b[?25hDownloading distro-1.9.0-py3-none-any.whl (20 kB)\n",
      "Downloading httpx-0.28.1-py3-none-any.whl (73 kB)\n",
      "\u001b[2K   \u001b[38;5;70m━━━━━━━━━━━━━━━━━━━━━━━━━━━━━━━━━━━━━━━━\u001b[0m \u001b[32m73.5/73.5 kB\u001b[0m \u001b[31m1.6 MB/s\u001b[0m eta \u001b[36m0:00:00\u001b[0ma \u001b[36m0:00:01\u001b[0m\n",
      "\u001b[?25hDownloading httpcore-1.0.9-py3-none-any.whl (78 kB)\n",
      "\u001b[2K   \u001b[38;5;70m━━━━━━━━━━━━━━━━━━━━━━━━━━━━━━━━━━━━━━━━\u001b[0m \u001b[32m78.8/78.8 kB\u001b[0m \u001b[31m1.8 MB/s\u001b[0m eta \u001b[36m0:00:00\u001b[0m7.5 MB/s\u001b[0m eta \u001b[36m0:00:01\u001b[0m\n",
      "\u001b[?25hDownloading pydantic-2.11.9-py3-none-any.whl (444 kB)\n",
      "\u001b[2K   \u001b[38;5;70m━━━━━━━━━━━━━━━━━━━━━━━━━━━━━━━━━━━━━━━━\u001b[0m \u001b[32m444.9/444.9 kB\u001b[0m \u001b[31m8.7 MB/s\u001b[0m eta \u001b[36m0:00:00\u001b[0m \u001b[36m0:00:01\u001b[0m\n",
      "\u001b[?25hDownloading pydantic_core-2.33.2-cp310-cp310-manylinux_2_17_x86_64.manylinux2014_x86_64.whl (2.0 MB)\n",
      "\u001b[2K   \u001b[38;5;70m━━━━━━━━━━━━━━━━━━━━━━━━━━━━━━━━━━━━━━━━\u001b[0m \u001b[32m2.0/2.0 MB\u001b[0m \u001b[31m31.4 MB/s\u001b[0m eta \u001b[36m0:00:00\u001b[0m \u001b[36m0:00:01\u001b[0m\n",
      "\u001b[?25hDownloading typing_extensions-4.15.0-py3-none-any.whl (44 kB)\n",
      "\u001b[2K   \u001b[38;5;70m━━━━━━━━━━━━━━━━━━━━━━━━━━━━━━━━━━━━━━━━\u001b[0m \u001b[32m44.6/44.6 kB\u001b[0m \u001b[31m1.4 MB/s\u001b[0m eta \u001b[36m0:00:00\u001b[0m\n",
      "\u001b[?25hDownloading annotated_types-0.7.0-py3-none-any.whl (13 kB)\n",
      "Downloading typing_inspection-0.4.1-py3-none-any.whl (14 kB)\n",
      "Downloading h11-0.16.0-py3-none-any.whl (37 kB)\n",
      "Installing collected packages: typing-extensions, h11, distro, annotated-types, typing-inspection, pydantic-core, httpcore, pydantic, httpx, kernel\n",
      "\u001b[33m  WARNING: The script distro is installed in '/home/7e9d92d3-38e0-4bb5-84fa-8f1a7099afae/.local/bin' which is not on PATH.\n",
      "  Consider adding this directory to PATH or, if you prefer to suppress this warning, use --no-warn-script-location.\u001b[0m\u001b[33m\n",
      "\u001b[0m\u001b[33m  WARNING: The script httpx is installed in '/home/7e9d92d3-38e0-4bb5-84fa-8f1a7099afae/.local/bin' which is not on PATH.\n",
      "  Consider adding this directory to PATH or, if you prefer to suppress this warning, use --no-warn-script-location.\u001b[0m\u001b[33m\n",
      "\u001b[0mSuccessfully installed annotated-types-0.7.0 distro-1.9.0 h11-0.16.0 httpcore-1.0.9 httpx-0.28.1 kernel-0.11.1 pydantic-2.11.9 pydantic-core-2.33.2 typing-extensions-4.15.0 typing-inspection-0.4.1\n"
     ]
    }
   ],
   "source": [
    "!pip install kernel"
   ]
  },
  {
   "cell_type": "code",
   "execution_count": 2,
   "id": "3e100cce-19b5-4bba-a235-c2ef3bc27505",
   "metadata": {},
   "outputs": [
    {
     "ename": "SyntaxError",
     "evalue": "invalid syntax (2993415821.py, line 4)",
     "output_type": "error",
     "traceback": [
      "\u001b[0;36m  Cell \u001b[0;32mIn[2], line 4\u001b[0;36m\u001b[0m\n\u001b[0;31m    using namespace std;\u001b[0m\n\u001b[0m          ^\u001b[0m\n\u001b[0;31mSyntaxError\u001b[0m\u001b[0;31m:\u001b[0m invalid syntax\n"
     ]
    }
   ],
   "source": [
    "#include <iostream>\n",
    "#include <string>\n",
    "#include <map>\n",
    "using namespace std;\n",
    "\n",
    "class Bank {\n",
    "private:\n",
    "    map<int, double> accounts; // accountNo -> balance\n",
    "    int nextAccNo = 1001;\n",
    "public:\n",
    "    int createAccount() {\n",
    "        accounts[nextAccNo] = 0.0;\n",
    "        cout << \"✅ Account created. Your Account Number is: \" << nextAccNo << endl;\n",
    "        return nextAccNo++;\n",
    "    }\n",
    "\n",
    "    void deposit(int accNo, double amount) {\n",
    "        if(accounts.find(accNo) != accounts.end()) {\n",
    "            accounts[accNo] += amount;\n",
    "            cout << \"💰 Deposited \" << amount << \". New Balance: \" << accounts[accNo] << endl;\n",
    "        } else {\n",
    "            cout << \"❌ Invalid Account Number!\" << endl;\n",
    "        }\n",
    "    }\n",
    "\n",
    "    void withdraw(int accNo, double amount) {\n",
    "        if(accounts.find(accNo) != accounts.end()) {\n",
    "            if(accounts[accNo] >= amount) {\n",
    "                accounts[accNo] -= amount;\n",
    "                cout << \"💸 Withdrawn \" << amount << \". New Balance: \" << accounts[accNo] << endl;\n",
    "            } else {\n",
    "                cout << \"⚠️ Insufficient Balance!\" << endl;\n",
    "            }\n",
    "        } else {\n",
    "            cout << \"❌ Invalid Account Number!\" << endl;\n",
    "        }\n",
    "    }\n",
    "\n",
    "    void checkBalance(int accNo) {\n",
    "        if(accounts.find(accNo) != accounts.end()) {\n",
    "            cout << \"📊 Balance for Account \" << accNo << \" : \" << accounts[accNo] << endl;\n",
    "        } else {\n",
    "            cout << \"❌ Invalid Account Number!\" << endl;\n",
    "        }\n",
    "    }\n",
    "};\n",
    "\n",
    "int main() {\n",
    "    Bank bank;\n",
    "    int choice, accNo;\n",
    "    double amount;\n",
    "\n",
    "    while(true) {\n",
    "        cout << \"\\n--- Bank Management System ---\\n\";\n",
    "        cout << \"1. Create Account\\n\";\n",
    "        cout << \"2. Deposit\\n\";\n",
    "        cout << \"3. Withdraw\\n\";\n",
    "        cout << \"4. Check Balance\\n\";\n",
    "        cout << \"5. Exit\\n\";\n",
    "        cout << \"Enter choice: \";\n",
    "        cin >> choice;\n",
    "\n",
    "        switch(choice) {\n",
    "            case 1:\n",
    "                bank.createAccount();\n",
    "                break;\n",
    "            case 2:\n",
    "                cout << \"Enter Account No: \"; cin >> accNo;\n",
    "                cout << \"Enter Amount: \"; cin >> amount;\n",
    "                bank.deposit(accNo, amount);\n",
    "                break;\n",
    "            case 3:\n",
    "                cout << \"Enter Account No: \"; cin >> accNo;\n",
    "                cout << \"Enter Amount: \"; cin >> amount;\n",
    "                bank.withdraw(accNo, amount);\n",
    "                break;\n",
    "            case 4:\n",
    "                cout << \"Enter Account No: \"; cin >> accNo;\n",
    "                bank.checkBalance(accNo);\n",
    "                break;\n",
    "            case 5:\n",
    "                cout << \"👋 Thank you for using our bank system!\\n\";\n",
    "                return 0;\n",
    "            default:\n",
    "                cout << \"❌ Invalid choice! Try again.\\n\";\n",
    "        }\n",
    "    }\n",
    "}\n"
   ]
  },
  {
   "cell_type": "code",
   "execution_count": 3,
   "id": "d67ee94a-a2e2-4849-9ce9-a0b1af05c8df",
   "metadata": {},
   "outputs": [
    {
     "name": "stdout",
     "output_type": "stream",
     "text": [
      "Defaulting to user installation because normal site-packages is not writeable\n",
      "Looking in links: /usr/share/pip-wheels\n",
      "\u001b[31mERROR: Could not find a version that satisfies the requirement xeus-cling (from versions: none)\u001b[0m\u001b[31m\n",
      "\u001b[0m\u001b[31mERROR: No matching distribution found for xeus-cling\u001b[0m\u001b[31m\n",
      "\u001b[0m"
     ]
    }
   ],
   "source": [
    "!pip install xeus-cling\n"
   ]
  },
  {
   "cell_type": "code",
   "execution_count": 4,
   "id": "42d62d5c-6059-4008-b4d0-18c36049d88d",
   "metadata": {},
   "outputs": [
    {
     "name": "stdout",
     "output_type": "stream",
     "text": [
      "Defaulting to user installation because normal site-packages is not writeable\n",
      "Looking in links: /usr/share/pip-wheels\n",
      "\u001b[31mERROR: Could not find a version that satisfies the requirement xeus-cling (from versions: none)\u001b[0m\u001b[31m\n",
      "\u001b[0m\u001b[31mERROR: No matching distribution found for xeus-cling\u001b[0m\u001b[31m\n",
      "\u001b[0mNote: you may need to restart the kernel to use updated packages.\n"
     ]
    }
   ],
   "source": [
    "pip install xeus-cling\n"
   ]
  },
  {
   "cell_type": "code",
   "execution_count": 5,
   "id": "ea941a58-a54e-4040-bcb2-e66812becdf3",
   "metadata": {},
   "outputs": [
    {
     "name": "stdout",
     "output_type": "stream",
     "text": [
      "\n",
      "--- Bank Management System ---\n",
      "1. Create Account\n",
      "2. Deposit\n",
      "3. Withdraw\n",
      "4. Check Balance\n",
      "5. Exit\n"
     ]
    },
    {
     "name": "stdin",
     "output_type": "stream",
     "text": [
      "Enter choice:  1\n"
     ]
    },
    {
     "name": "stdout",
     "output_type": "stream",
     "text": [
      "✅ Account created successfully! Your Account Number: 1001\n",
      "\n",
      "--- Bank Management System ---\n",
      "1. Create Account\n",
      "2. Deposit\n",
      "3. Withdraw\n",
      "4. Check Balance\n",
      "5. Exit\n"
     ]
    },
    {
     "name": "stdin",
     "output_type": "stream",
     "text": [
      "Enter choice:  2\n",
      "Enter Account No:  200000\n",
      "Enter Amount:  100000000\n"
     ]
    },
    {
     "name": "stdout",
     "output_type": "stream",
     "text": [
      "❌ Invalid Account Number!\n",
      "\n",
      "--- Bank Management System ---\n",
      "1. Create Account\n",
      "2. Deposit\n",
      "3. Withdraw\n",
      "4. Check Balance\n",
      "5. Exit\n"
     ]
    },
    {
     "name": "stdin",
     "output_type": "stream",
     "text": [
      "Enter choice:  1\n"
     ]
    },
    {
     "name": "stdout",
     "output_type": "stream",
     "text": [
      "✅ Account created successfully! Your Account Number: 1002\n",
      "\n",
      "--- Bank Management System ---\n",
      "1. Create Account\n",
      "2. Deposit\n",
      "3. Withdraw\n",
      "4. Check Balance\n",
      "5. Exit\n"
     ]
    },
    {
     "name": "stdin",
     "output_type": "stream",
     "text": [
      "Enter choice:  123456789010\n"
     ]
    },
    {
     "name": "stdout",
     "output_type": "stream",
     "text": [
      "❌ Invalid choice! Try again.\n",
      "\n",
      "--- Bank Management System ---\n",
      "1. Create Account\n",
      "2. Deposit\n",
      "3. Withdraw\n",
      "4. Check Balance\n",
      "5. Exit\n"
     ]
    },
    {
     "name": "stdin",
     "output_type": "stream",
     "text": [
      "Enter choice:  9904890890t34\n"
     ]
    },
    {
     "name": "stdout",
     "output_type": "stream",
     "text": [
      "❌ Please enter a valid number.\n",
      "\n",
      "--- Bank Management System ---\n",
      "1. Create Account\n",
      "2. Deposit\n",
      "3. Withdraw\n",
      "4. Check Balance\n",
      "5. Exit\n"
     ]
    },
    {
     "name": "stdin",
     "output_type": "stream",
     "text": [
      "Enter choice:  1\n"
     ]
    },
    {
     "name": "stdout",
     "output_type": "stream",
     "text": [
      "✅ Account created successfully! Your Account Number: 1003\n",
      "\n",
      "--- Bank Management System ---\n",
      "1. Create Account\n",
      "2. Deposit\n",
      "3. Withdraw\n",
      "4. Check Balance\n",
      "5. Exit\n"
     ]
    },
    {
     "name": "stdin",
     "output_type": "stream",
     "text": [
      "Enter choice:  1\n"
     ]
    },
    {
     "name": "stdout",
     "output_type": "stream",
     "text": [
      "✅ Account created successfully! Your Account Number: 1004\n",
      "\n",
      "--- Bank Management System ---\n",
      "1. Create Account\n",
      "2. Deposit\n",
      "3. Withdraw\n",
      "4. Check Balance\n",
      "5. Exit\n"
     ]
    },
    {
     "name": "stdin",
     "output_type": "stream",
     "text": [
      "Enter choice:  1\n"
     ]
    },
    {
     "name": "stdout",
     "output_type": "stream",
     "text": [
      "✅ Account created successfully! Your Account Number: 1005\n",
      "\n",
      "--- Bank Management System ---\n",
      "1. Create Account\n",
      "2. Deposit\n",
      "3. Withdraw\n",
      "4. Check Balance\n",
      "5. Exit\n"
     ]
    },
    {
     "name": "stdin",
     "output_type": "stream",
     "text": [
      "Enter choice:  2\n",
      "Enter Account No:  1005\n",
      "Enter Amount:  1234567\n"
     ]
    },
    {
     "name": "stdout",
     "output_type": "stream",
     "text": [
      "💰 Deposited 1234567.0. New Balance: 1234567.0\n",
      "\n",
      "--- Bank Management System ---\n",
      "1. Create Account\n",
      "2. Deposit\n",
      "3. Withdraw\n",
      "4. Check Balance\n",
      "5. Exit\n"
     ]
    },
    {
     "name": "stdin",
     "output_type": "stream",
     "text": [
      "Enter choice:  2\n",
      "Enter Account No:  1004\n",
      "Enter Amount:  4000000000\n"
     ]
    },
    {
     "name": "stdout",
     "output_type": "stream",
     "text": [
      "💰 Deposited 4000000000.0. New Balance: 4000000000.0\n",
      "\n",
      "--- Bank Management System ---\n",
      "1. Create Account\n",
      "2. Deposit\n",
      "3. Withdraw\n",
      "4. Check Balance\n",
      "5. Exit\n"
     ]
    },
    {
     "name": "stdin",
     "output_type": "stream",
     "text": [
      "Enter choice:  5\n"
     ]
    },
    {
     "name": "stdout",
     "output_type": "stream",
     "text": [
      "👋 Thank you for using our bank system!\n"
     ]
    }
   ],
   "source": [
    "class Bank:\n",
    "    def __init__(self):\n",
    "        self.accounts = {}\n",
    "        self.next_acc_no = 1001  # Starting account number\n",
    "    \n",
    "    def create_account(self):\n",
    "        acc_no = self.next_acc_no\n",
    "        self.accounts[acc_no] = 0.0  # Initial balance is 0\n",
    "        self.next_acc_no += 1\n",
    "        print(f\"✅ Account created successfully! Your Account Number: {acc_no}\")\n",
    "        return acc_no\n",
    "    \n",
    "    def deposit(self, acc_no, amount):\n",
    "        if acc_no in self.accounts:\n",
    "            self.accounts[acc_no] += amount\n",
    "            print(f\"💰 Deposited {amount}. New Balance: {self.accounts[acc_no]}\")\n",
    "        else:\n",
    "            print(\"❌ Invalid Account Number!\")\n",
    "    \n",
    "    def withdraw(self, acc_no, amount):\n",
    "        if acc_no in self.accounts:\n",
    "            if self.accounts[acc_no] >= amount:\n",
    "                self.accounts[acc_no] -= amount\n",
    "                print(f\"💸 Withdrawn {amount}. New Balance: {self.accounts[acc_no]}\")\n",
    "            else:\n",
    "                print(\"⚠️ Insufficient Balance!\")\n",
    "        else:\n",
    "            print(\"❌ Invalid Account Number!\")\n",
    "    \n",
    "    def check_balance(self, acc_no):\n",
    "        if acc_no in self.accounts:\n",
    "            print(f\"📊 Balance for Account {acc_no}: {self.accounts[acc_no]}\")\n",
    "        else:\n",
    "            print(\"❌ Invalid Account Number!\")\n",
    "\n",
    "def main():\n",
    "    bank = Bank()\n",
    "    \n",
    "    while True:\n",
    "        print(\"\\n--- Bank Management System ---\")\n",
    "        print(\"1. Create Account\")\n",
    "        print(\"2. Deposit\")\n",
    "        print(\"3. Withdraw\")\n",
    "        print(\"4. Check Balance\")\n",
    "        print(\"5. Exit\")\n",
    "        \n",
    "        try:\n",
    "            choice = int(input(\"Enter choice: \"))\n",
    "            \n",
    "            if choice == 1:\n",
    "                bank.create_account()\n",
    "            elif choice == 2:\n",
    "                acc_no = int(input(\"Enter Account No: \"))\n",
    "                amount = float(input(\"Enter Amount: \"))\n",
    "                bank.deposit(acc_no, amount)\n",
    "            elif choice == 3:\n",
    "                acc_no = int(input(\"Enter Account No: \"))\n",
    "                amount = float(input(\"Enter Amount: \"))\n",
    "                bank.withdraw(acc_no, amount)\n",
    "            elif choice == 4:\n",
    "                acc_no = int(input(\"Enter Account No: \"))\n",
    "                bank.check_balance(acc_no)\n",
    "            elif choice == 5:\n",
    "                print(\"👋 Thank you for using our bank system!\")\n",
    "                break\n",
    "            else:\n",
    "                print(\"❌ Invalid choice! Try again.\")\n",
    "        except ValueError:\n",
    "            print(\"❌ Please enter a valid number.\")\n",
    "\n",
    "if __name__ == \"__main__\":\n",
    "    main()"
   ]
  },
  {
   "cell_type": "code",
   "execution_count": null,
   "id": "f4fb8457-20f4-430c-95dd-e1ad7b0cd5b0",
   "metadata": {},
   "outputs": [],
   "source": []
  }
 ],
 "metadata": {
  "kernelspec": {
   "display_name": "anaconda-2024.02-py310",
   "language": "python",
   "name": "conda-env-anaconda-2024.02-py310-py"
  },
  "language_info": {
   "codemirror_mode": {
    "name": "ipython",
    "version": 3
   },
   "file_extension": ".py",
   "mimetype": "text/x-python",
   "name": "python",
   "nbconvert_exporter": "python",
   "pygments_lexer": "ipython3",
   "version": "3.10.14"
  }
 },
 "nbformat": 4,
 "nbformat_minor": 5
}
